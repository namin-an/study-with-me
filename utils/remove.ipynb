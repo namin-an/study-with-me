{
 "cells": [
  {
   "cell_type": "code",
   "execution_count": 2,
   "id": "45550722",
   "metadata": {},
   "outputs": [],
   "source": [
    "import os"
   ]
  },
  {
   "cell_type": "code",
   "execution_count": 6,
   "id": "e39c668a",
   "metadata": {},
   "outputs": [
    {
     "name": "stdout",
     "output_type": "stream",
     "text": [
      "shallowConvNet_subject0_fold0_agents\n"
     ]
    }
   ],
   "source": [
    "mydir = '/opt/pytorch/demo/checkpoints/20220523/bci_comp4a/'\n",
    "\n",
    "for file in os.listdir(mydir):\n",
    "    splitted_name = file.split('_')\n",
    "    if splitted_name[-1] == 'agents':\n",
    "        print(file)\n",
    "        os.remove(os.path.join(mydir, file))"
   ]
  },
  {
   "cell_type": "code",
   "execution_count": 8,
   "id": "c12925ab",
   "metadata": {},
   "outputs": [
    {
     "name": "stdout",
     "output_type": "stream",
     "text": [
      "final_mask_subject0_fold0_93.pt\n",
      "final_mask_subject0_fold0_21.pt\n",
      "final_mask_subject0_fold0_55.pt\n",
      "final_mask_subject0_fold0_12.pt\n",
      "final_mask_subject0_fold0_18.pt\n",
      "final_mask_subject0_fold0_47.pt\n",
      "final_mask_subject0_fold0_96.pt\n",
      "final_mask_subject0_fold0_43.pt\n",
      "final_mask_subject0_fold0_4.pt\n",
      "final_mask_subject0_fold0_37.pt\n",
      "final_mask_subject0_fold0_51.pt\n",
      "final_mask_subject0_fold0_8.pt\n",
      "final_mask_subject0_fold0_78.pt\n",
      "final_mask_subject0_fold0_77.pt\n",
      "final_mask_subject0_fold0_61.pt\n",
      "final_mask_subject0_fold0_89.pt\n",
      "final_mask_subject0_fold0_30.pt\n",
      "final_mask_subject0_fold0_36.pt\n",
      "final_mask_subject0_fold0_81.pt\n",
      "final_mask_subject0_fold0_71.pt\n",
      "final_mask_subject0_fold0_22.pt\n",
      "final_mask_subject0_fold0_33.pt\n",
      "final_mask_subject0_fold0_80.pt\n",
      "final_mask_subject0_fold0_74.pt\n",
      "final_mask_subject0_fold0_53.pt\n",
      "final_mask_subject0_fold0_16.pt\n",
      "final_mask_subject0_fold0_99.pt\n",
      "final_mask_subject0_fold0_5.pt\n",
      "final_mask_subject0_fold0_64.pt\n",
      "final_mask_subject0_fold0_52.pt\n",
      "final_mask_subject0_fold0_95.pt\n",
      "final_mask_subject0_fold0_85.pt\n",
      "final_mask_subject0_fold0_13.pt\n",
      "final_mask_subject0_fold0_40.pt\n",
      "final_mask_subject0_fold0_11.pt\n",
      "final_mask_subject0_fold0_32.pt\n",
      "final_mask_subject0_fold0_10.pt\n",
      "final_mask_subject0_fold0_62.pt\n",
      "final_mask_subject0_fold0_38.pt\n",
      "final_mask_subject0_fold0_97.pt\n",
      "final_mask_subject0_fold0_28.pt\n",
      "final_mask_subject0_fold0_26.pt\n",
      "final_mask_subject0_fold0_48.pt\n",
      "final_mask_subject0_fold0_14.pt\n",
      "final_mask_subject0_fold0_29.pt\n",
      "final_mask_subject0_fold0_0.pt\n",
      "final_mask_subject0_fold0_91.pt\n",
      "final_mask_subject0_fold0_59.pt\n",
      "final_mask_subject0_fold0_86.pt\n",
      "final_mask_subject0_fold0_68.pt\n",
      "final_mask_subject0_fold0_67.pt\n",
      "final_mask_subject0_fold0_44.pt\n",
      "final_mask_subject0_fold0_84.pt\n",
      "final_mask_subject0_fold0_35.pt\n",
      "final_mask_subject0_fold0_7.pt\n",
      "final_mask_subject0_fold0_60.pt\n",
      "final_mask_subject0_fold0_94.pt\n",
      "final_mask_subject0_fold0_87.pt\n",
      "final_mask_subject0_fold0_98.pt\n",
      "final_mask_subject0_fold0_2.pt\n",
      "final_mask_subject0_fold0_19.pt\n",
      "final_mask_subject0_fold0_45.pt\n",
      "final_mask_subject0_fold0_49.pt\n",
      "final_mask_subject0_fold0_20.pt\n",
      "final_mask_subject0_fold0_17.pt\n",
      "final_mask_subject0_fold0_66.pt\n",
      "final_mask_subject0_fold0_72.pt\n",
      "final_mask_subject0_fold0_69.pt\n",
      "final_mask_subject0_fold0_63.pt\n",
      "final_mask_subject0_fold0_70.pt\n",
      "final_mask_subject0_fold0_83.pt\n",
      "final_mask_subject0_fold0_73.pt\n",
      "final_mask_subject0_fold0_27.pt\n",
      "final_mask_subject0_fold0_65.pt\n",
      "final_mask_subject0_fold0_25.pt\n",
      "final_mask_subject0_fold0_56.pt\n",
      "final_mask_subject0_fold0_9.pt\n",
      "final_mask_subject0_fold0_23.pt\n",
      "final_mask_subject0_fold0_34.pt\n",
      "final_mask_subject0_fold0_3.pt\n",
      "final_mask_subject0_fold0_42.pt\n",
      "final_mask_subject0_fold0_39.pt\n",
      "final_mask_subject0_fold0_15.pt\n",
      "final_mask_subject0_fold0_88.pt\n",
      "final_mask_subject0_fold0_79.pt\n",
      "final_mask_subject0_fold0_50.pt\n",
      "final_mask_subject0_fold0_75.pt\n",
      "final_mask_subject0_fold0_46.pt\n",
      "final_mask_subject0_fold0_90.pt\n",
      "final_mask_subject0_fold0_76.pt\n",
      "final_mask_subject0_fold0_58.pt\n",
      "final_mask_subject0_fold0_82.pt\n",
      "final_mask_subject0_fold0_24.pt\n",
      "final_mask_subject0_fold0_1.pt\n",
      "final_mask_subject0_fold0_41.pt\n",
      "final_mask_subject0_fold0_54.pt\n",
      "final_mask_subject0_fold0_31.pt\n",
      "final_mask_subject0_fold0_92.pt\n",
      "final_mask_subject0_fold0_57.pt\n",
      "final_mask_subject0_fold0_6.pt\n"
     ]
    }
   ],
   "source": [
    "# REMOVE MASKS\n",
    "\n",
    "mydir = '/opt/pytorch/demo/masks/'\n",
    "\n",
    "for file in os.listdir(mydir):\n",
    "    if len(file.split('_')) == 5:\n",
    "        print(file)\n",
    "        # os.remove(os.path.join(mydir, file))"
   ]
  },
  {
   "cell_type": "code",
   "execution_count": null,
   "id": "59013dcf",
   "metadata": {},
   "outputs": [],
   "source": []
  }
 ],
 "metadata": {
  "kernelspec": {
   "display_name": "Python 3 (ipykernel)",
   "language": "python",
   "name": "python3"
  },
  "language_info": {
   "codemirror_mode": {
    "name": "ipython",
    "version": 3
   },
   "file_extension": ".py",
   "mimetype": "text/x-python",
   "name": "python",
   "nbconvert_exporter": "python",
   "pygments_lexer": "ipython3",
   "version": "3.7.11"
  }
 },
 "nbformat": 4,
 "nbformat_minor": 5
}
