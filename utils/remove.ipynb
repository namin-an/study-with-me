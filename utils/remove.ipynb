{
 "cells": [
  {
   "cell_type": "code",
   "execution_count": 2,
   "id": "45550722",
   "metadata": {},
   "outputs": [],
   "source": [
    "import os"
   ]
  },
  {
   "cell_type": "code",
   "execution_count": 121,
   "id": "e39c668a",
   "metadata": {},
   "outputs": [
    {
     "name": "stdout",
     "output_type": "stream",
     "text": [
      "shallowConvNet_subject0_fold0_agents\n",
      "shallowConvNet_subject0_fold2_agents\n",
      "shallowConvNet_subject0_fold1_agents\n",
      "shallowConvNet_subject0_fold4_agents\n",
      "shallowConvNet_subject0_fold3_agents\n"
     ]
    }
   ],
   "source": [
    "mydir = '/opt/pytorch/demo/checkpoints/20220627/bci_comp4a/'\n",
    "\n",
    "for file in os.listdir(mydir):\n",
    "    splitted_name = file.split('_')\n",
    "    if splitted_name[-1] == 'agents': # and splitted_name[-2]=='fold2':\n",
    "        print(file)\n",
    "        os.remove(os.path.join(mydir, file))"
   ]
  },
  {
   "cell_type": "code",
   "execution_count": 92,
   "id": "c12925ab",
   "metadata": {},
   "outputs": [],
   "source": [
    "# REMOVE MASKS\n",
    "\n",
    "mydir = '/opt/pytorch/demo/masks/'\n",
    "\n",
    "for file in os.listdir(mydir):\n",
    "    splitted_name = file.split('_')\n",
    "    if len(file.split('_')) == 5: # and splitted_name[-2]=='fold2':\n",
    "        print(file)\n",
    "        os.remove(os.path.join(mydir, file))"
   ]
  },
  {
   "cell_type": "code",
   "execution_count": null,
   "id": "59013dcf",
   "metadata": {},
   "outputs": [],
   "source": []
  }
 ],
 "metadata": {
  "kernelspec": {
   "display_name": "Python 3 (ipykernel)",
   "language": "python",
   "name": "python3"
  },
  "language_info": {
   "codemirror_mode": {
    "name": "ipython",
    "version": 3
   },
   "file_extension": ".py",
   "mimetype": "text/x-python",
   "name": "python",
   "nbconvert_exporter": "python",
   "pygments_lexer": "ipython3",
   "version": "3.7.11"
  }
 },
 "nbformat": 4,
 "nbformat_minor": 5
}
