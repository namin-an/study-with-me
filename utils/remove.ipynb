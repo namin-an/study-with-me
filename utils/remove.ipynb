{
 "cells": [
  {
   "cell_type": "code",
   "execution_count": 337,
   "id": "45550722",
   "metadata": {},
   "outputs": [],
   "source": [
    "import os"
   ]
  },
  {
   "cell_type": "code",
   "execution_count": 341,
   "id": "e39c668a",
   "metadata": {},
   "outputs": [],
   "source": [
    "mydir = '/opt/pytorch/demo/checkpoints/20220523/bci_comp4a/'\n",
    "\n",
    "for file in os.listdir(mydir):\n",
    "    splitted_name = file.split('_')\n",
    "    if splitted_name[-1] == 'agents':\n",
    "        print(file)\n",
    "        os.remove(os.path.join(mydir, file))"
   ]
  },
  {
   "cell_type": "code",
   "execution_count": 223,
   "id": "c12925ab",
   "metadata": {},
   "outputs": [],
   "source": [
    "from collections import namedtuple, deque\n",
    "\n",
    "Experience = namedtuple(\"Experience\",\n",
    "                        (\"states\", \"actions\", \"next_states\"))\n",
    "deq = deque([], maxlen=100)"
   ]
  },
  {
   "cell_type": "code",
   "execution_count": 224,
   "id": "71c414f3",
   "metadata": {},
   "outputs": [
    {
     "data": {
      "text/plain": [
       "4"
      ]
     },
     "execution_count": 224,
     "metadata": {},
     "output_type": "execute_result"
    }
   ],
   "source": [
    "deq.append(Experience(2, 3, 1))\n",
    "deq.append(Experience(4, 5, None))\n",
    "deq.append(Experience(2, 3, 3))\n",
    "deq.append(Experience(4, 5, None))\n",
    "\n",
    "len(deq)"
   ]
  },
  {
   "cell_type": "code",
   "execution_count": 225,
   "id": "bf06788e",
   "metadata": {},
   "outputs": [
    {
     "data": {
      "text/plain": [
       "[Experience(states=2, actions=3, next_states=1),\n",
       " Experience(states=4, actions=5, next_states=None)]"
      ]
     },
     "execution_count": 225,
     "metadata": {},
     "output_type": "execute_result"
    }
   ],
   "source": [
    "rand = random.sample(deq, 2)\n",
    "rand\n"
   ]
  },
  {
   "cell_type": "code",
   "execution_count": 226,
   "id": "fb794432",
   "metadata": {},
   "outputs": [
    {
     "data": {
      "text/plain": [
       "Experience(states=(2, 4), actions=(3, 5), next_states=(1, None))"
      ]
     },
     "execution_count": 226,
     "metadata": {},
     "output_type": "execute_result"
    }
   ],
   "source": [
    "batch = Experience(*zip(*rand))\n",
    "batch"
   ]
  },
  {
   "cell_type": "code",
   "execution_count": 227,
   "id": "552fb3a6",
   "metadata": {},
   "outputs": [
    {
     "data": {
      "text/plain": [
       "(True, False)"
      ]
     },
     "execution_count": 227,
     "metadata": {},
     "output_type": "execute_result"
    }
   ],
   "source": [
    "l = batch.next_states\n",
    "tuple(map(lambda s: s is not None, l))"
   ]
  },
  {
   "cell_type": "code",
   "execution_count": 302,
   "id": "713c1e35",
   "metadata": {},
   "outputs": [],
   "source": [
    "import torch\n",
    "\n",
    "states = torch.tensor([[1, 2, 3], [4, 5, 6], [7, 8, 9]])\n",
    "action = torch.tensor([2, 1, 0])"
   ]
  },
  {
   "cell_type": "code",
   "execution_count": 303,
   "id": "2ced3a40",
   "metadata": {},
   "outputs": [
    {
     "data": {
      "text/plain": [
       "tensor([[1, 2, 3],\n",
       "        [4, 5, 6],\n",
       "        [7, 8, 9]])"
      ]
     },
     "execution_count": 303,
     "metadata": {},
     "output_type": "execute_result"
    }
   ],
   "source": [
    "states"
   ]
  },
  {
   "cell_type": "code",
   "execution_count": 304,
   "id": "c3f0cd29",
   "metadata": {},
   "outputs": [
    {
     "data": {
      "text/plain": [
       "tensor([2, 2, 2])"
      ]
     },
     "execution_count": 304,
     "metadata": {},
     "output_type": "execute_result"
    }
   ],
   "source": [
    "torch.tensor([states[i].max(dim=-1)[1] for i in range(3)])"
   ]
  },
  {
   "cell_type": "code",
   "execution_count": 320,
   "id": "e813c2c5",
   "metadata": {},
   "outputs": [
    {
     "name": "stdout",
     "output_type": "stream",
     "text": [
      "0\n",
      "1\n",
      "2\n",
      "3\n",
      "4\n",
      "5\n",
      "6\n",
      "7\n",
      "8\n",
      "9\n",
      "10\n"
     ]
    }
   ],
   "source": [
    "from itertools import count\n",
    "\n",
    "done = False\n",
    "for t in count():\n",
    "    print(t)\n",
    "    if t == 10:\n",
    "        break\n",
    "        if t == 5:\n",
    "            break"
   ]
  },
  {
   "cell_type": "code",
   "execution_count": 327,
   "id": "4bca44a3",
   "metadata": {},
   "outputs": [
    {
     "data": {
      "text/plain": [
       "tensor(1.)"
      ]
     },
     "execution_count": 327,
     "metadata": {},
     "output_type": "execute_result"
    }
   ],
   "source": [
    "a = torch.tensor([1.])\n",
    "b = torch.tile(a, (16, 1))\n",
    "torch.mean(b)"
   ]
  },
  {
   "cell_type": "code",
   "execution_count": 324,
   "id": "d8578038",
   "metadata": {},
   "outputs": [
    {
     "data": {
      "text/plain": [
       "torch.Size([1, 13])"
      ]
     },
     "execution_count": 324,
     "metadata": {},
     "output_type": "execute_result"
    }
   ],
   "source": [
    "torch.tile(a, (1, 13)).shape"
   ]
  },
  {
   "cell_type": "code",
   "execution_count": 343,
   "id": "e5e28455",
   "metadata": {},
   "outputs": [
    {
     "data": {
      "text/plain": [
       "tensor(0)"
      ]
     },
     "execution_count": 343,
     "metadata": {},
     "output_type": "execute_result"
    }
   ],
   "source": [
    "import torch \n",
    "t = torch.tensor([0.0003, 0.0003])\n",
    "t.max(dim=-1)[-1]"
   ]
  },
  {
   "cell_type": "code",
   "execution_count": 359,
   "id": "dcf410e7",
   "metadata": {},
   "outputs": [
    {
     "data": {
      "text/plain": [
       "tensor([[3.0000e-04],\n",
       "        [3.0000e-04],\n",
       "        [0.0000e+00],\n",
       "        [1.0000e+00],\n",
       "        [2.0000e+00]])"
      ]
     },
     "execution_count": 359,
     "metadata": {},
     "output_type": "execute_result"
    }
   ],
   "source": [
    "s = range(32)\n",
    "import random\n",
    "ind = random.sample(s, 2)\n",
    "t = torch.tensor([[0.0003], [0.0003], [0], [1], [2]])\n",
    "t"
   ]
  },
  {
   "cell_type": "code",
   "execution_count": 362,
   "id": "19d69f0b",
   "metadata": {},
   "outputs": [
    {
     "data": {
      "text/plain": [
       "tensor([3.0000e-04, 3.0000e-04, 0.0000e+00, 1.0000e+00, 2.0000e+00])"
      ]
     },
     "execution_count": 362,
     "metadata": {},
     "output_type": "execute_result"
    }
   ],
   "source": [
    "torch.mean(t, axis=-1)"
   ]
  },
  {
   "cell_type": "code",
   "execution_count": 361,
   "id": "fa2dd7bc",
   "metadata": {},
   "outputs": [
    {
     "data": {
      "text/plain": [
       "torch.Size([5, 1])"
      ]
     },
     "execution_count": 361,
     "metadata": {},
     "output_type": "execute_result"
    }
   ],
   "source": [
    "t.shape"
   ]
  },
  {
   "cell_type": "code",
   "execution_count": 358,
   "id": "e9c8a66a",
   "metadata": {},
   "outputs": [
    {
     "data": {
      "text/plain": [
       "'/opt/pytorch/demo/logs'"
      ]
     },
     "execution_count": 358,
     "metadata": {},
     "output_type": "execute_result"
    }
   ],
   "source": [
    "import os\n",
    "os.getcwd()"
   ]
  },
  {
   "cell_type": "code",
   "execution_count": null,
   "id": "fe8a8637",
   "metadata": {},
   "outputs": [],
   "source": []
  }
 ],
 "metadata": {
  "kernelspec": {
   "display_name": "Python 3 (ipykernel)",
   "language": "python",
   "name": "python3"
  },
  "language_info": {
   "codemirror_mode": {
    "name": "ipython",
    "version": 3
   },
   "file_extension": ".py",
   "mimetype": "text/x-python",
   "name": "python",
   "nbconvert_exporter": "python",
   "pygments_lexer": "ipython3",
   "version": "3.7.11"
  }
 },
 "nbformat": 4,
 "nbformat_minor": 5
}
